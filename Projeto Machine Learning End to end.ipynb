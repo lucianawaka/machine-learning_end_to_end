{
 "cells": [
  {
   "cell_type": "markdown",
   "metadata": {},
   "source": [
    "### Pergunta a ser respondida\n",
    "<p> Quanto vale o aluguel da sua casa?</p>"
   ]
  },
  {
   "cell_type": "code",
   "execution_count": 1,
   "metadata": {},
   "outputs": [],
   "source": [
    "# Bibliotecas\n",
    "import pandas as pd\n",
    "import numpy as np\n",
    "\n",
    "import matplotlib.pyplot as plt\n",
    "import seaborn as sns\n",
    "\n",
    "import warnings\n",
    "warnings.filterwarnings('ignore')"
   ]
  },
  {
   "cell_type": "code",
   "execution_count": 2,
   "metadata": {},
   "outputs": [],
   "source": [
    "# Confiração no pandas\n",
    "pd.set_option('display.max_rows', 200)\n",
    "pd.set_option('display.max_columns', 100)\n",
    "\n",
    "# Configuração no Matplotlib\n",
    "plt.rcParams['figure.figsize'] = (15, 6)\n",
    "plt.style.use('seaborn-darkgrid')"
   ]
  },
  {
   "cell_type": "markdown",
   "metadata": {},
   "source": [
    "### Exploração dos dados"
   ]
  },
  {
   "cell_type": "code",
   "execution_count": 3,
   "metadata": {},
   "outputs": [],
   "source": [
    "# Lendo os dados\n",
    "base_dados = pd.read_csv('data/house_data.csv')"
   ]
  },
  {
   "cell_type": "code",
   "execution_count": 4,
   "metadata": {},
   "outputs": [
    {
     "data": {
      "text/plain": [
       "(10692, 13)"
      ]
     },
     "execution_count": 4,
     "metadata": {},
     "output_type": "execute_result"
    }
   ],
   "source": [
    "# Dimensão\n",
    "base_dados.shape"
   ]
  },
  {
   "cell_type": "code",
   "execution_count": 5,
   "metadata": {},
   "outputs": [
    {
     "data": {
      "text/html": [
       "<div>\n",
       "<style scoped>\n",
       "    .dataframe tbody tr th:only-of-type {\n",
       "        vertical-align: middle;\n",
       "    }\n",
       "\n",
       "    .dataframe tbody tr th {\n",
       "        vertical-align: top;\n",
       "    }\n",
       "\n",
       "    .dataframe thead th {\n",
       "        text-align: right;\n",
       "    }\n",
       "</style>\n",
       "<table border=\"1\" class=\"dataframe\">\n",
       "  <thead>\n",
       "    <tr style=\"text-align: right;\">\n",
       "      <th></th>\n",
       "      <th>city</th>\n",
       "      <th>area</th>\n",
       "      <th>rooms</th>\n",
       "      <th>bathroom</th>\n",
       "      <th>parking spaces</th>\n",
       "      <th>floor</th>\n",
       "      <th>animal</th>\n",
       "      <th>furniture</th>\n",
       "      <th>hoa (R$)</th>\n",
       "      <th>rent amount (R$)</th>\n",
       "      <th>property tax (R$)</th>\n",
       "      <th>fire insurance (R$)</th>\n",
       "      <th>total (R$)</th>\n",
       "    </tr>\n",
       "  </thead>\n",
       "  <tbody>\n",
       "    <tr>\n",
       "      <th>0</th>\n",
       "      <td>São Paulo</td>\n",
       "      <td>70</td>\n",
       "      <td>2</td>\n",
       "      <td>1</td>\n",
       "      <td>1</td>\n",
       "      <td>7</td>\n",
       "      <td>acept</td>\n",
       "      <td>furnished</td>\n",
       "      <td>2065</td>\n",
       "      <td>3300</td>\n",
       "      <td>211</td>\n",
       "      <td>42</td>\n",
       "      <td>5618</td>\n",
       "    </tr>\n",
       "    <tr>\n",
       "      <th>1</th>\n",
       "      <td>São Paulo</td>\n",
       "      <td>320</td>\n",
       "      <td>4</td>\n",
       "      <td>4</td>\n",
       "      <td>0</td>\n",
       "      <td>20</td>\n",
       "      <td>acept</td>\n",
       "      <td>not furnished</td>\n",
       "      <td>1200</td>\n",
       "      <td>4960</td>\n",
       "      <td>1750</td>\n",
       "      <td>63</td>\n",
       "      <td>7973</td>\n",
       "    </tr>\n",
       "    <tr>\n",
       "      <th>2</th>\n",
       "      <td>Porto Alegre</td>\n",
       "      <td>80</td>\n",
       "      <td>1</td>\n",
       "      <td>1</td>\n",
       "      <td>1</td>\n",
       "      <td>6</td>\n",
       "      <td>acept</td>\n",
       "      <td>not furnished</td>\n",
       "      <td>1000</td>\n",
       "      <td>2800</td>\n",
       "      <td>0</td>\n",
       "      <td>41</td>\n",
       "      <td>3841</td>\n",
       "    </tr>\n",
       "    <tr>\n",
       "      <th>3</th>\n",
       "      <td>Porto Alegre</td>\n",
       "      <td>51</td>\n",
       "      <td>2</td>\n",
       "      <td>1</td>\n",
       "      <td>0</td>\n",
       "      <td>2</td>\n",
       "      <td>acept</td>\n",
       "      <td>not furnished</td>\n",
       "      <td>270</td>\n",
       "      <td>1112</td>\n",
       "      <td>22</td>\n",
       "      <td>17</td>\n",
       "      <td>1421</td>\n",
       "    </tr>\n",
       "    <tr>\n",
       "      <th>4</th>\n",
       "      <td>São Paulo</td>\n",
       "      <td>25</td>\n",
       "      <td>1</td>\n",
       "      <td>1</td>\n",
       "      <td>0</td>\n",
       "      <td>1</td>\n",
       "      <td>not acept</td>\n",
       "      <td>not furnished</td>\n",
       "      <td>0</td>\n",
       "      <td>800</td>\n",
       "      <td>25</td>\n",
       "      <td>11</td>\n",
       "      <td>836</td>\n",
       "    </tr>\n",
       "  </tbody>\n",
       "</table>\n",
       "</div>"
      ],
      "text/plain": [
       "           city  area  rooms  bathroom  parking spaces floor     animal  \\\n",
       "0     São Paulo    70      2         1               1     7      acept   \n",
       "1     São Paulo   320      4         4               0    20      acept   \n",
       "2  Porto Alegre    80      1         1               1     6      acept   \n",
       "3  Porto Alegre    51      2         1               0     2      acept   \n",
       "4     São Paulo    25      1         1               0     1  not acept   \n",
       "\n",
       "       furniture  hoa (R$)  rent amount (R$)  property tax (R$)  \\\n",
       "0      furnished      2065              3300                211   \n",
       "1  not furnished      1200              4960               1750   \n",
       "2  not furnished      1000              2800                  0   \n",
       "3  not furnished       270              1112                 22   \n",
       "4  not furnished         0               800                 25   \n",
       "\n",
       "   fire insurance (R$)  total (R$)  \n",
       "0                   42        5618  \n",
       "1                   63        7973  \n",
       "2                   41        3841  \n",
       "3                   17        1421  \n",
       "4                   11         836  "
      ]
     },
     "execution_count": 5,
     "metadata": {},
     "output_type": "execute_result"
    }
   ],
   "source": [
    "# Verificando os dados\n",
    "base_dados.head()"
   ]
  },
  {
   "cell_type": "code",
   "execution_count": 6,
   "metadata": {},
   "outputs": [],
   "source": [
    "# Removendo colunas\n",
    "base_dados.drop(columns=['fire insurance (R$)','total (R$)'], inplace=True)"
   ]
  },
  {
   "cell_type": "code",
   "execution_count": 7,
   "metadata": {},
   "outputs": [
    {
     "data": {
      "text/plain": [
       "Index(['city', 'area', 'rooms', 'bathroom', 'parking spaces', 'floor',\n",
       "       'animal', 'furniture', 'hoa (R$)', 'rent amount (R$)',\n",
       "       'property tax (R$)'],\n",
       "      dtype='object')"
      ]
     },
     "execution_count": 7,
     "metadata": {},
     "output_type": "execute_result"
    }
   ],
   "source": [
    "base_dados.columns"
   ]
  },
  {
   "cell_type": "code",
   "execution_count": 8,
   "metadata": {},
   "outputs": [
    {
     "data": {
      "text/plain": [
       "city                 0\n",
       "area                 0\n",
       "rooms                0\n",
       "bathroom             0\n",
       "parking spaces       0\n",
       "floor                0\n",
       "animal               0\n",
       "furniture            0\n",
       "hoa (R$)             0\n",
       "rent amount (R$)     0\n",
       "property tax (R$)    0\n",
       "dtype: int64"
      ]
     },
     "execution_count": 8,
     "metadata": {},
     "output_type": "execute_result"
    }
   ],
   "source": [
    "# Analisar campos vazios\n",
    "base_dados.isnull().sum().sort_values( ascending=False )"
   ]
  },
  {
   "cell_type": "code",
   "execution_count": 9,
   "metadata": {},
   "outputs": [
    {
     "data": {
      "text/plain": [
       "city                    5\n",
       "area                  517\n",
       "rooms                  11\n",
       "bathroom               10\n",
       "parking spaces         11\n",
       "floor                  35\n",
       "animal                  2\n",
       "furniture               2\n",
       "hoa (R$)             1679\n",
       "rent amount (R$)     1195\n",
       "property tax (R$)    1243\n",
       "dtype: int64"
      ]
     },
     "execution_count": 9,
     "metadata": {},
     "output_type": "execute_result"
    }
   ],
   "source": [
    "# Campo unicos\n",
    "base_dados.nunique()"
   ]
  },
  {
   "cell_type": "code",
   "execution_count": 10,
   "metadata": {},
   "outputs": [
    {
     "data": {
      "text/plain": [
       "city                 object\n",
       "area                  int64\n",
       "rooms                 int64\n",
       "bathroom              int64\n",
       "parking spaces        int64\n",
       "floor                object\n",
       "animal               object\n",
       "furniture            object\n",
       "hoa (R$)              int64\n",
       "rent amount (R$)      int64\n",
       "property tax (R$)     int64\n",
       "dtype: object"
      ]
     },
     "execution_count": 10,
     "metadata": {},
     "output_type": "execute_result"
    }
   ],
   "source": [
    "# Tipos das columns\n",
    "base_dados.dtypes"
   ]
  },
  {
   "cell_type": "code",
   "execution_count": 11,
   "metadata": {},
   "outputs": [
    {
     "data": {
      "text/plain": [
       "int64     7\n",
       "object    4\n",
       "dtype: int64"
      ]
     },
     "execution_count": 11,
     "metadata": {},
     "output_type": "execute_result"
    }
   ],
   "source": [
    "base_dados.dtypes.value_counts()"
   ]
  },
  {
   "cell_type": "markdown",
   "metadata": {},
   "source": [
    "### Exploração Analítica (EDA)"
   ]
  },
  {
   "cell_type": "code",
   "execution_count": 12,
   "metadata": {},
   "outputs": [],
   "source": [
    "# Filtar os tipos de dados\n",
    "colunas_categoricas = base_dados.columns[base_dados.dtypes == object ]\n",
    "colunas_numericas = base_dados.columns[base_dados.dtypes != object ]"
   ]
  },
  {
   "cell_type": "code",
   "execution_count": 13,
   "metadata": {},
   "outputs": [
    {
     "data": {
      "text/plain": [
       "(Index(['city', 'floor', 'animal', 'furniture'], dtype='object'),\n",
       " Index(['area', 'rooms', 'bathroom', 'parking spaces', 'hoa (R$)',\n",
       "        'rent amount (R$)', 'property tax (R$)'],\n",
       "       dtype='object'))"
      ]
     },
     "execution_count": 13,
     "metadata": {},
     "output_type": "execute_result"
    }
   ],
   "source": [
    "colunas_categoricas, colunas_numericas"
   ]
  },
  {
   "cell_type": "markdown",
   "metadata": {},
   "source": [
    "### Mudança do modelo no tempo\n",
    "<p>Por exemplo:</p>\n",
    "<ul>\n",
    "<li>No primeiro semestre: 90% das casas aceitava animal.</li>\n",
    "<li>No segundo semestre: 50% das casas aceitava animal.</li>\n",
    "    <li><b>Resultado:</b> modif. os padrões da base de dados. == <b>Piorar o resultado do modelo</b></li>\n",
    "</ul>"
   ]
  },
  {
   "cell_type": "markdown",
   "metadata": {},
   "source": [
    "#### Fazer uma fotografia da base de dados no TEMPO\n",
    "<p>Caso a base de dados tenha o tempo, ajudará.</p>\n",
    "<p>Caso não tenha, faça uma <b>fotografia</b></p>"
   ]
  },
  {
   "cell_type": "code",
   "execution_count": 14,
   "metadata": {},
   "outputs": [
    {
     "data": {
      "text/plain": [
       "São Paulo         5887\n",
       "Rio de Janeiro    1501\n",
       "Belo Horizonte    1258\n",
       "Porto Alegre      1193\n",
       "Campinas           853\n",
       "Name: city, dtype: int64"
      ]
     },
     "execution_count": 14,
     "metadata": {},
     "output_type": "execute_result"
    }
   ],
   "source": [
    "# Analise dos campos Object\n",
    "# city\n",
    "base_dados['city'].value_counts()"
   ]
  },
  {
   "cell_type": "code",
   "execution_count": 15,
   "metadata": {},
   "outputs": [
    {
     "data": {
      "text/plain": [
       "São Paulo         55.059858\n",
       "Rio de Janeiro    14.038533\n",
       "Belo Horizonte    11.765806\n",
       "Porto Alegre      11.157875\n",
       "Campinas           7.977927\n",
       "Name: city, dtype: float64"
      ]
     },
     "execution_count": 15,
     "metadata": {},
     "output_type": "execute_result"
    }
   ],
   "source": [
    "# normalize\n",
    "base_dados['city'].value_counts( normalize=True )\n",
    "base_dados['city'].value_counts( normalize=True ) * 100"
   ]
  },
  {
   "cell_type": "code",
   "execution_count": 16,
   "metadata": {},
   "outputs": [
    {
     "name": "stdout",
     "output_type": "stream",
     "text": [
      "city\n",
      "São Paulo         55.059858\n",
      "Rio de Janeiro    14.038533\n",
      "Belo Horizonte    11.765806\n",
      "Porto Alegre      11.157875\n",
      "Campinas           7.977927\n",
      "Name: city, dtype: float64\n",
      "\n",
      "floor\n",
      "-      23.017209\n",
      "1      10.110363\n",
      "2       9.212495\n",
      "3       8.707445\n",
      "4       6.995885\n",
      "5       5.611672\n",
      "6       5.041152\n",
      "7       4.648335\n",
      "8       4.582866\n",
      "9       3.451178\n",
      "10      3.338945\n",
      "11      2.833895\n",
      "12      2.403666\n",
      "13      1.870557\n",
      "14      1.589974\n",
      "15      1.374860\n",
      "16      1.019454\n",
      "17      0.897868\n",
      "18      0.701459\n",
      "19      0.495698\n",
      "20      0.411523\n",
      "21      0.392817\n",
      "25      0.233820\n",
      "23      0.233820\n",
      "22      0.224467\n",
      "26      0.187056\n",
      "24      0.177703\n",
      "27      0.074822\n",
      "28      0.056117\n",
      "29      0.046764\n",
      "32      0.018706\n",
      "35      0.009353\n",
      "46      0.009353\n",
      "301     0.009353\n",
      "51      0.009353\n",
      "Name: floor, dtype: float64\n",
      "\n",
      "animal\n",
      "acept        77.777778\n",
      "not acept    22.222222\n",
      "Name: animal, dtype: float64\n",
      "\n",
      "furniture\n",
      "not furnished    75.626637\n",
      "furnished        24.373363\n",
      "Name: furniture, dtype: float64\n",
      "\n"
     ]
    }
   ],
   "source": [
    "# Normalizar todos os campos categóricos\n",
    "for coluna in colunas_categoricas:\n",
    "    analise = base_dados[coluna].value_counts( normalize=True ) * 100\n",
    "    print(coluna)\n",
    "    print(analise)\n",
    "    print('')"
   ]
  },
  {
   "cell_type": "markdown",
   "metadata": {},
   "source": [
    "#### Tirar a fotografia daqui ^"
   ]
  },
  {
   "cell_type": "code",
   "execution_count": 17,
   "metadata": {},
   "outputs": [
    {
     "data": {
      "text/html": [
       "<div>\n",
       "<style scoped>\n",
       "    .dataframe tbody tr th:only-of-type {\n",
       "        vertical-align: middle;\n",
       "    }\n",
       "\n",
       "    .dataframe tbody tr th {\n",
       "        vertical-align: top;\n",
       "    }\n",
       "\n",
       "    .dataframe thead th {\n",
       "        text-align: right;\n",
       "    }\n",
       "</style>\n",
       "<table border=\"1\" class=\"dataframe\">\n",
       "  <thead>\n",
       "    <tr style=\"text-align: right;\">\n",
       "      <th></th>\n",
       "      <th>city</th>\n",
       "      <th>area</th>\n",
       "      <th>rooms</th>\n",
       "      <th>bathroom</th>\n",
       "      <th>parking spaces</th>\n",
       "      <th>floor</th>\n",
       "      <th>animal</th>\n",
       "      <th>furniture</th>\n",
       "      <th>hoa (R$)</th>\n",
       "      <th>rent amount (R$)</th>\n",
       "      <th>property tax (R$)</th>\n",
       "    </tr>\n",
       "  </thead>\n",
       "  <tbody>\n",
       "    <tr>\n",
       "      <th>2562</th>\n",
       "      <td>Belo Horizonte</td>\n",
       "      <td>80</td>\n",
       "      <td>3</td>\n",
       "      <td>2</td>\n",
       "      <td>2</td>\n",
       "      <td>301</td>\n",
       "      <td>acept</td>\n",
       "      <td>not furnished</td>\n",
       "      <td>750</td>\n",
       "      <td>2600</td>\n",
       "      <td>164</td>\n",
       "    </tr>\n",
       "  </tbody>\n",
       "</table>\n",
       "</div>"
      ],
      "text/plain": [
       "                city  area  rooms  bathroom  parking spaces floor animal  \\\n",
       "2562  Belo Horizonte    80      3         2               2   301  acept   \n",
       "\n",
       "          furniture  hoa (R$)  rent amount (R$)  property tax (R$)  \n",
       "2562  not furnished       750              2600                164  "
      ]
     },
     "execution_count": 17,
     "metadata": {},
     "output_type": "execute_result"
    }
   ],
   "source": [
    "### Correção nos dados de floor\n",
    "\n",
    "# Ajustando o Andar  .loc (localizando)\n",
    "base_dados.loc[ base_dados['floor']=='301' ]\n"
   ]
  },
  {
   "cell_type": "code",
   "execution_count": 18,
   "metadata": {},
   "outputs": [
    {
     "data": {
      "text/plain": [
       "'301'"
      ]
     },
     "execution_count": 18,
     "metadata": {},
     "output_type": "execute_result"
    }
   ],
   "source": [
    "# Acessando o índice .iloc\n",
    "base_dados.iloc[ 2562, 5 ]"
   ]
  },
  {
   "cell_type": "code",
   "execution_count": 19,
   "metadata": {},
   "outputs": [],
   "source": [
    "# Ajustando o valor 301 para 30\n",
    "\n",
    "base_dados.iloc[ 2562, 5 ] = 30"
   ]
  },
  {
   "cell_type": "code",
   "execution_count": 20,
   "metadata": {},
   "outputs": [
    {
     "data": {
      "text/plain": [
       "30"
      ]
     },
     "execution_count": 20,
     "metadata": {},
     "output_type": "execute_result"
    }
   ],
   "source": [
    "base_dados.iloc[ 2562, 5 ]"
   ]
  },
  {
   "cell_type": "code",
   "execution_count": 21,
   "metadata": {},
   "outputs": [],
   "source": [
    "base_dados['floor'].replace('-',0,inplace=True)"
   ]
  },
  {
   "cell_type": "code",
   "execution_count": 22,
   "metadata": {},
   "outputs": [
    {
     "data": {
      "text/plain": [
       "0     2461\n",
       "1     1081\n",
       "2      985\n",
       "3      931\n",
       "4      748\n",
       "5      600\n",
       "6      539\n",
       "7      497\n",
       "8      490\n",
       "9      369\n",
       "10     357\n",
       "11     303\n",
       "12     257\n",
       "13     200\n",
       "14     170\n",
       "15     147\n",
       "16     109\n",
       "17      96\n",
       "18      75\n",
       "19      53\n",
       "20      44\n",
       "21      42\n",
       "25      25\n",
       "23      25\n",
       "22      24\n",
       "26      20\n",
       "24      19\n",
       "27       8\n",
       "28       6\n",
       "29       5\n",
       "32       2\n",
       "35       1\n",
       "46       1\n",
       "30       1\n",
       "51       1\n",
       "Name: floor, dtype: int64"
      ]
     },
     "execution_count": 22,
     "metadata": {},
     "output_type": "execute_result"
    }
   ],
   "source": [
    "base_dados['floor'].value_counts()"
   ]
  },
  {
   "cell_type": "code",
   "execution_count": 23,
   "metadata": {},
   "outputs": [],
   "source": [
    "# Ajustar o '-'\n",
    "base_dados['floor'] = base_dados['floor'].apply( lambda Registro: 0 if Registro == '-' else Registro)"
   ]
  },
  {
   "cell_type": "code",
   "execution_count": 24,
   "metadata": {},
   "outputs": [
    {
     "data": {
      "text/plain": [
       "0     2461\n",
       "1     1081\n",
       "2      985\n",
       "3      931\n",
       "4      748\n",
       "5      600\n",
       "6      539\n",
       "7      497\n",
       "8      490\n",
       "9      369\n",
       "10     357\n",
       "11     303\n",
       "12     257\n",
       "13     200\n",
       "14     170\n",
       "15     147\n",
       "16     109\n",
       "17      96\n",
       "18      75\n",
       "19      53\n",
       "20      44\n",
       "21      42\n",
       "25      25\n",
       "23      25\n",
       "22      24\n",
       "26      20\n",
       "24      19\n",
       "27       8\n",
       "28       6\n",
       "29       5\n",
       "32       2\n",
       "35       1\n",
       "46       1\n",
       "30       1\n",
       "51       1\n",
       "Name: floor, dtype: int64"
      ]
     },
     "execution_count": 24,
     "metadata": {},
     "output_type": "execute_result"
    }
   ],
   "source": [
    "base_dados['floor'].value_counts()"
   ]
  },
  {
   "cell_type": "code",
   "execution_count": 25,
   "metadata": {},
   "outputs": [],
   "source": [
    "base_dados['floor'] = pd.to_numeric(base_dados['floor'])"
   ]
  },
  {
   "cell_type": "code",
   "execution_count": 26,
   "metadata": {},
   "outputs": [
    {
     "data": {
      "text/plain": [
       "dtype('int64')"
      ]
     },
     "execution_count": 26,
     "metadata": {},
     "output_type": "execute_result"
    }
   ],
   "source": [
    "base_dados['floor'].dtypes"
   ]
  },
  {
   "cell_type": "code",
   "execution_count": 27,
   "metadata": {},
   "outputs": [
    {
     "data": {
      "text/html": [
       "<div>\n",
       "<style scoped>\n",
       "    .dataframe tbody tr th:only-of-type {\n",
       "        vertical-align: middle;\n",
       "    }\n",
       "\n",
       "    .dataframe tbody tr th {\n",
       "        vertical-align: top;\n",
       "    }\n",
       "\n",
       "    .dataframe thead th {\n",
       "        text-align: right;\n",
       "    }\n",
       "</style>\n",
       "<table border=\"1\" class=\"dataframe\">\n",
       "  <thead>\n",
       "    <tr style=\"text-align: right;\">\n",
       "      <th></th>\n",
       "      <th>city</th>\n",
       "      <th>area</th>\n",
       "      <th>rooms</th>\n",
       "      <th>bathroom</th>\n",
       "      <th>parking spaces</th>\n",
       "      <th>floor</th>\n",
       "      <th>animal</th>\n",
       "      <th>furniture</th>\n",
       "      <th>hoa (R$)</th>\n",
       "      <th>rent amount (R$)</th>\n",
       "      <th>property tax (R$)</th>\n",
       "    </tr>\n",
       "  </thead>\n",
       "  <tbody>\n",
       "    <tr>\n",
       "      <th>0</th>\n",
       "      <td>São Paulo</td>\n",
       "      <td>70</td>\n",
       "      <td>2</td>\n",
       "      <td>1</td>\n",
       "      <td>1</td>\n",
       "      <td>7</td>\n",
       "      <td>acept</td>\n",
       "      <td>furnished</td>\n",
       "      <td>2065</td>\n",
       "      <td>3300</td>\n",
       "      <td>211</td>\n",
       "    </tr>\n",
       "    <tr>\n",
       "      <th>1</th>\n",
       "      <td>São Paulo</td>\n",
       "      <td>320</td>\n",
       "      <td>4</td>\n",
       "      <td>4</td>\n",
       "      <td>0</td>\n",
       "      <td>20</td>\n",
       "      <td>acept</td>\n",
       "      <td>not furnished</td>\n",
       "      <td>1200</td>\n",
       "      <td>4960</td>\n",
       "      <td>1750</td>\n",
       "    </tr>\n",
       "    <tr>\n",
       "      <th>2</th>\n",
       "      <td>Porto Alegre</td>\n",
       "      <td>80</td>\n",
       "      <td>1</td>\n",
       "      <td>1</td>\n",
       "      <td>1</td>\n",
       "      <td>6</td>\n",
       "      <td>acept</td>\n",
       "      <td>not furnished</td>\n",
       "      <td>1000</td>\n",
       "      <td>2800</td>\n",
       "      <td>0</td>\n",
       "    </tr>\n",
       "    <tr>\n",
       "      <th>3</th>\n",
       "      <td>Porto Alegre</td>\n",
       "      <td>51</td>\n",
       "      <td>2</td>\n",
       "      <td>1</td>\n",
       "      <td>0</td>\n",
       "      <td>2</td>\n",
       "      <td>acept</td>\n",
       "      <td>not furnished</td>\n",
       "      <td>270</td>\n",
       "      <td>1112</td>\n",
       "      <td>22</td>\n",
       "    </tr>\n",
       "    <tr>\n",
       "      <th>4</th>\n",
       "      <td>São Paulo</td>\n",
       "      <td>25</td>\n",
       "      <td>1</td>\n",
       "      <td>1</td>\n",
       "      <td>0</td>\n",
       "      <td>1</td>\n",
       "      <td>not acept</td>\n",
       "      <td>not furnished</td>\n",
       "      <td>0</td>\n",
       "      <td>800</td>\n",
       "      <td>25</td>\n",
       "    </tr>\n",
       "  </tbody>\n",
       "</table>\n",
       "</div>"
      ],
      "text/plain": [
       "           city  area  rooms  bathroom  parking spaces  floor     animal  \\\n",
       "0     São Paulo    70      2         1               1      7      acept   \n",
       "1     São Paulo   320      4         4               0     20      acept   \n",
       "2  Porto Alegre    80      1         1               1      6      acept   \n",
       "3  Porto Alegre    51      2         1               0      2      acept   \n",
       "4     São Paulo    25      1         1               0      1  not acept   \n",
       "\n",
       "       furniture  hoa (R$)  rent amount (R$)  property tax (R$)  \n",
       "0      furnished      2065              3300                211  \n",
       "1  not furnished      1200              4960               1750  \n",
       "2  not furnished      1000              2800                  0  \n",
       "3  not furnished       270              1112                 22  \n",
       "4  not furnished         0               800                 25  "
      ]
     },
     "execution_count": 27,
     "metadata": {},
     "output_type": "execute_result"
    }
   ],
   "source": [
    "base_dados.head()"
   ]
  },
  {
   "cell_type": "code",
   "execution_count": 28,
   "metadata": {},
   "outputs": [
    {
     "data": {
      "text/plain": [
       "0     0.230172\n",
       "1     0.101104\n",
       "2     0.092125\n",
       "3     0.087074\n",
       "4     0.069959\n",
       "5     0.056117\n",
       "6     0.050412\n",
       "7     0.046483\n",
       "8     0.045829\n",
       "9     0.034512\n",
       "10    0.033389\n",
       "11    0.028339\n",
       "12    0.024037\n",
       "13    0.018706\n",
       "14    0.015900\n",
       "15    0.013749\n",
       "16    0.010195\n",
       "17    0.008979\n",
       "18    0.007015\n",
       "19    0.004957\n",
       "20    0.004115\n",
       "21    0.003928\n",
       "25    0.002338\n",
       "23    0.002338\n",
       "22    0.002245\n",
       "26    0.001871\n",
       "24    0.001777\n",
       "27    0.000748\n",
       "28    0.000561\n",
       "29    0.000468\n",
       "32    0.000187\n",
       "35    0.000094\n",
       "46    0.000094\n",
       "30    0.000094\n",
       "51    0.000094\n",
       "Name: floor, dtype: float64"
      ]
     },
     "execution_count": 28,
     "metadata": {},
     "output_type": "execute_result"
    }
   ],
   "source": [
    "base_dados['floor'].value_counts(normalize=True)"
   ]
  },
  {
   "cell_type": "code",
   "execution_count": 29,
   "metadata": {},
   "outputs": [
    {
     "data": {
      "text/plain": [
       "7"
      ]
     },
     "execution_count": 29,
     "metadata": {},
     "output_type": "execute_result"
    }
   ],
   "source": [
    "len(colunas_numericas)"
   ]
  },
  {
   "cell_type": "code",
   "execution_count": 30,
   "metadata": {},
   "outputs": [
    {
     "data": {
      "image/png": "[encoded data removed]",
      "text/plain": [
       "<Figure size 1440x2160 with 14 Axes>"
      ]
     },
     "metadata": {},
     "output_type": "display_data"
    }
   ],
   "source": [
    "# Grid Gráficos\n",
    "\n",
    "# Tamanho\n",
    "Figura, Eixo = plt.subplots( figsize=(20, 30) )\n",
    "\n",
    "# Cor de fundo\n",
    "Cor_fundo = '#f5f5f5'\n",
    "Figura.set_facecolor( Cor_fundo )\n",
    "\n",
    "# Paleta de cores\n",
    "paleta_cores = sns.color_palette('flare', len(colunas_numericas) * 2)\n",
    "\n",
    "# Título\n",
    "plt.suptitle('Análise das variáveis numéricas', fontsize=22, color='#404040', fontweight=600)\n",
    "\n",
    "# Estrutura \n",
    "linhas =  7 # (Todas as infos. numéricas)\n",
    "colunas = 2 # (Boxplot - Distplot)\n",
    "posicao = 1 # Posição inicial do Grid\n",
    "\n",
    "#Loop para Plotar os dados\n",
    "for coluna in colunas_numericas:\n",
    "    \n",
    "    #Plot no Grid -- Boxplot\n",
    "    # Título\n",
    "    plt.title( f'{coluna}', loc='left', fontsize=14, fontweight=200)\n",
    "    \n",
    "    plt.subplot( linhas, colunas, posicao )\n",
    "    \n",
    "    #Boxplot\n",
    "    sns.boxplot( data=base_dados, y=coluna, showmeans=True, saturation=0.75, linewidth=1,\\\n",
    "                color=paleta_cores[posicao], width=0.25 )\n",
    "    posicao += 1\n",
    "        \n",
    "    # Título\n",
    "    plt.title( f'{coluna}', loc='left', fontsize=14, fontweight=200)\n",
    "\n",
    "    # Plot no Grid -- Distplot\n",
    "    plt.subplot( linhas, colunas, posicao )\n",
    "    \n",
    "    # Distplot\n",
    "    sns.distplot( base_dados[coluna], color=paleta_cores[posicao-1] )\n",
    "\n",
    "    posicao += 1\n",
    "    \n",
    "# Ajuste de Grid\n",
    "plt.subplots_adjust( top=0.95, hspace=0.3 )\n",
    "    "
   ]
  },
  {
   "cell_type": "code",
   "execution_count": 31,
   "metadata": {},
   "outputs": [
    {
     "data": {
      "text/plain": [
       "2397    46335\n",
       "5915    24606\n",
       "9241    12732\n",
       "8790     2000\n",
       "5129     2000\n",
       "        ...  \n",
       "6695       15\n",
       "1588       13\n",
       "4864       13\n",
       "6784       12\n",
       "785        11\n",
       "Name: area, Length: 10692, dtype: int64"
      ]
     },
     "execution_count": 31,
     "metadata": {},
     "output_type": "execute_result"
    }
   ],
   "source": [
    "base_dados['area'].sort_values(ascending=False)"
   ]
  },
  {
   "cell_type": "code",
   "execution_count": 32,
   "metadata": {},
   "outputs": [
    {
     "data": {
      "text/plain": [
       "count    10689.000000\n",
       "mean       141.431846\n",
       "std        134.348219\n",
       "min         11.000000\n",
       "25%         56.000000\n",
       "50%         90.000000\n",
       "75%        182.000000\n",
       "max       2000.000000\n",
       "Name: area, dtype: float64"
      ]
     },
     "execution_count": 32,
     "metadata": {},
     "output_type": "execute_result"
    }
   ],
   "source": [
    "base_dados.loc[base_dados['area'] <= 10000]['area'].describe()"
   ]
  },
  {
   "cell_type": "code",
   "execution_count": 33,
   "metadata": {},
   "outputs": [
    {
     "data": {
      "text/plain": [
       "<BarContainer object of 10689 artists>"
      ]
     },
     "execution_count": 33,
     "metadata": {},
     "output_type": "execute_result"
    },
    {
     "data": {
      "image/png": "[encoded data removed]",
      "text/plain": [
       "<Figure size 1080x432 with 1 Axes>"
      ]
     },
     "metadata": {},
     "output_type": "display_data"
    }
   ],
   "source": [
    "plt.bar(base_dados.loc[base_dados['area'] <= 10000]['area'],height=3)"
   ]
  },
  {
   "cell_type": "code",
   "execution_count": 34,
   "metadata": {},
   "outputs": [
    {
     "data": {
      "text/plain": [
       "255      1117000\n",
       "6979     1117000\n",
       "6230      220000\n",
       "2859      200000\n",
       "2928       81150\n",
       "          ...   \n",
       "5818           0\n",
       "5821           0\n",
       "5832           0\n",
       "5845           0\n",
       "10691          0\n",
       "Name: hoa (R$), Length: 10692, dtype: int64"
      ]
     },
     "execution_count": 34,
     "metadata": {},
     "output_type": "execute_result"
    }
   ],
   "source": [
    "base_dados['hoa (R$)'].sort_values(ascending=False)"
   ]
  },
  {
   "cell_type": "code",
   "execution_count": 35,
   "metadata": {},
   "outputs": [
    {
     "data": {
      "text/plain": [
       "count    10683.000000\n",
       "mean       911.949827\n",
       "std       1104.885520\n",
       "min          0.000000\n",
       "25%        170.000000\n",
       "50%        558.000000\n",
       "75%       1230.000000\n",
       "max      10000.000000\n",
       "Name: hoa (R$), dtype: float64"
      ]
     },
     "execution_count": 35,
     "metadata": {},
     "output_type": "execute_result"
    }
   ],
   "source": [
    "base_dados.loc[ base_dados['hoa (R$)'] <= 10000]['hoa (R$)'].describe()"
   ]
  },
  {
   "cell_type": "code",
   "execution_count": 36,
   "metadata": {},
   "outputs": [
    {
     "data": {
      "text/plain": [
       "547      9900\n",
       "7020     9500\n",
       "7679     9000\n",
       "1862     8600\n",
       "1072     8500\n",
       "         ... \n",
       "3758        0\n",
       "6317        0\n",
       "1811        0\n",
       "6316        0\n",
       "10691       0\n",
       "Name: hoa (R$), Length: 10681, dtype: int64"
      ]
     },
     "execution_count": 36,
     "metadata": {},
     "output_type": "execute_result"
    }
   ],
   "source": [
    "base_dados.loc[ base_dados['hoa (R$)'] < 10000]['hoa (R$)'].sort_values(ascending=False)"
   ]
  },
  {
   "cell_type": "code",
   "execution_count": 37,
   "metadata": {},
   "outputs": [
    {
     "data": {
      "text/plain": [
       "city                 São Paulo\n",
       "area                       600\n",
       "rooms                        6\n",
       "bathroom                     7\n",
       "parking spaces               4\n",
       "floor                        0\n",
       "animal                   acept\n",
       "furniture            furnished\n",
       "hoa (R$)                 10000\n",
       "rent amount (R$)         15000\n",
       "property tax (R$)           84\n",
       "Name: 974, dtype: object"
      ]
     },
     "execution_count": 37,
     "metadata": {},
     "output_type": "execute_result"
    }
   ],
   "source": [
    "base_dados.iloc[ 974 ]"
   ]
  },
  {
   "cell_type": "code",
   "execution_count": 38,
   "metadata": {},
   "outputs": [
    {
     "data": {
      "text/plain": [
       "2182     45000\n",
       "7748     30000\n",
       "6947     25000\n",
       "2619     24000\n",
       "1743     20000\n",
       "         ...  \n",
       "8070       500\n",
       "7502       500\n",
       "5152       500\n",
       "4022       460\n",
       "10627      450\n",
       "Name: rent amount (R$), Length: 10692, dtype: int64"
      ]
     },
     "execution_count": 38,
     "metadata": {},
     "output_type": "execute_result"
    }
   ],
   "source": [
    "base_dados['rent amount (R$)'].sort_values(ascending=False)"
   ]
  },
  {
   "cell_type": "code",
   "execution_count": 39,
   "metadata": {},
   "outputs": [
    {
     "data": {
      "text/plain": [
       "city                     São Paulo\n",
       "area                           486\n",
       "rooms                            8\n",
       "bathroom                         4\n",
       "parking spaces                   6\n",
       "floor                            0\n",
       "animal                       acept\n",
       "furniture            not furnished\n",
       "hoa (R$)                         0\n",
       "rent amount (R$)             25000\n",
       "property tax (R$)             2200\n",
       "Name: 6947, dtype: object"
      ]
     },
     "execution_count": 39,
     "metadata": {},
     "output_type": "execute_result"
    }
   ],
   "source": [
    "base_dados.iloc[ 6947 ]"
   ]
  },
  {
   "cell_type": "code",
   "execution_count": 40,
   "metadata": {},
   "outputs": [
    {
     "data": {
      "text/plain": [
       "6645     313700\n",
       "6243      28120\n",
       "1699      21880\n",
       "10172     12500\n",
       "5331      10830\n",
       "          ...  \n",
       "7790          0\n",
       "2179          0\n",
       "7794          0\n",
       "2173          0\n",
       "7661          0\n",
       "Name: property tax (R$), Length: 10692, dtype: int64"
      ]
     },
     "execution_count": 40,
     "metadata": {},
     "output_type": "execute_result"
    }
   ],
   "source": [
    "base_dados['property tax (R$)'].sort_values(ascending=False)"
   ]
  },
  {
   "cell_type": "code",
   "execution_count": 41,
   "metadata": {},
   "outputs": [
    {
     "data": {
      "text/plain": [
       "city                     São Paulo\n",
       "area                            42\n",
       "rooms                            1\n",
       "bathroom                         2\n",
       "parking spaces                   1\n",
       "floor                            6\n",
       "animal                   not acept\n",
       "furniture            not furnished\n",
       "hoa (R$)                       690\n",
       "rent amount (R$)              2500\n",
       "property tax (R$)           313700\n",
       "Name: 6645, dtype: object"
      ]
     },
     "execution_count": 41,
     "metadata": {},
     "output_type": "execute_result"
    }
   ],
   "source": [
    "base_dados.iloc[6645]"
   ]
  },
  {
   "cell_type": "markdown",
   "metadata": {},
   "source": [
    "### Engenharia de Features\n",
    "<p>Quais variáveis vamos levar para o modelo.</p>"
   ]
  },
  {
   "cell_type": "markdown",
   "metadata": {},
   "source": [
    "#### Ajuste das colunas Categóricas"
   ]
  },
  {
   "cell_type": "code",
   "execution_count": 42,
   "metadata": {},
   "outputs": [
    {
     "data": {
      "text/plain": [
       "Index(['city', 'floor', 'animal', 'furniture'], dtype='object')"
      ]
     },
     "execution_count": 42,
     "metadata": {},
     "output_type": "execute_result"
    }
   ],
   "source": [
    "colunas_categoricas"
   ]
  },
  {
   "cell_type": "code",
   "execution_count": 43,
   "metadata": {},
   "outputs": [
    {
     "data": {
      "text/plain": [
       "0            acept\n",
       "1            acept\n",
       "2            acept\n",
       "3            acept\n",
       "4        not acept\n",
       "           ...    \n",
       "10687    not acept\n",
       "10688        acept\n",
       "10689    not acept\n",
       "10690        acept\n",
       "10691        acept\n",
       "Name: animal, Length: 10692, dtype: object"
      ]
     },
     "execution_count": 43,
     "metadata": {},
     "output_type": "execute_result"
    }
   ],
   "source": [
    "base_dados['animal']"
   ]
  },
  {
   "cell_type": "code",
   "execution_count": 44,
   "metadata": {},
   "outputs": [],
   "source": [
    "### .map"
   ]
  },
  {
   "cell_type": "code",
   "execution_count": 45,
   "metadata": {},
   "outputs": [],
   "source": [
    "base_dados['animal'] = base_dados['animal'].map({'acept':1, 'not acept':0})\n",
    "base_dados['furniture'] = base_dados['furniture'].map({'furnished':1, 'not furnished':0})"
   ]
  },
  {
   "cell_type": "markdown",
   "metadata": {},
   "source": [
    "#### Filtrar a Cidade de São Paulo\n",
    "<p> <b>MVP</b> (Produto Mínimo Viável) -> VALOR para o Cliente </p>\n",
    "<p> Escalar o modelo.</p>"
   ]
  },
  {
   "cell_type": "code",
   "execution_count": 46,
   "metadata": {},
   "outputs": [
    {
     "data": {
      "text/plain": [
       "0    1\n",
       "1    1\n",
       "2    1\n",
       "3    1\n",
       "4    0\n",
       "Name: animal, dtype: int64"
      ]
     },
     "execution_count": 46,
     "metadata": {},
     "output_type": "execute_result"
    }
   ],
   "source": [
    "base_dados['animal'].head()"
   ]
  },
  {
   "cell_type": "code",
   "execution_count": 47,
   "metadata": {},
   "outputs": [
    {
     "data": {
      "text/html": [
       "<div>\n",
       "<style scoped>\n",
       "    .dataframe tbody tr th:only-of-type {\n",
       "        vertical-align: middle;\n",
       "    }\n",
       "\n",
       "    .dataframe tbody tr th {\n",
       "        vertical-align: top;\n",
       "    }\n",
       "\n",
       "    .dataframe thead th {\n",
       "        text-align: right;\n",
       "    }\n",
       "</style>\n",
       "<table border=\"1\" class=\"dataframe\">\n",
       "  <thead>\n",
       "    <tr style=\"text-align: right;\">\n",
       "      <th></th>\n",
       "      <th>city</th>\n",
       "      <th>area</th>\n",
       "      <th>rooms</th>\n",
       "      <th>bathroom</th>\n",
       "      <th>parking spaces</th>\n",
       "      <th>floor</th>\n",
       "      <th>animal</th>\n",
       "      <th>furniture</th>\n",
       "      <th>hoa (R$)</th>\n",
       "      <th>rent amount (R$)</th>\n",
       "      <th>property tax (R$)</th>\n",
       "    </tr>\n",
       "  </thead>\n",
       "  <tbody>\n",
       "    <tr>\n",
       "      <th>0</th>\n",
       "      <td>São Paulo</td>\n",
       "      <td>70</td>\n",
       "      <td>2</td>\n",
       "      <td>1</td>\n",
       "      <td>1</td>\n",
       "      <td>7</td>\n",
       "      <td>1</td>\n",
       "      <td>1</td>\n",
       "      <td>2065</td>\n",
       "      <td>3300</td>\n",
       "      <td>211</td>\n",
       "    </tr>\n",
       "    <tr>\n",
       "      <th>1</th>\n",
       "      <td>São Paulo</td>\n",
       "      <td>320</td>\n",
       "      <td>4</td>\n",
       "      <td>4</td>\n",
       "      <td>0</td>\n",
       "      <td>20</td>\n",
       "      <td>1</td>\n",
       "      <td>0</td>\n",
       "      <td>1200</td>\n",
       "      <td>4960</td>\n",
       "      <td>1750</td>\n",
       "    </tr>\n",
       "    <tr>\n",
       "      <th>4</th>\n",
       "      <td>São Paulo</td>\n",
       "      <td>25</td>\n",
       "      <td>1</td>\n",
       "      <td>1</td>\n",
       "      <td>0</td>\n",
       "      <td>1</td>\n",
       "      <td>0</td>\n",
       "      <td>0</td>\n",
       "      <td>0</td>\n",
       "      <td>800</td>\n",
       "      <td>25</td>\n",
       "    </tr>\n",
       "    <tr>\n",
       "      <th>5</th>\n",
       "      <td>São Paulo</td>\n",
       "      <td>376</td>\n",
       "      <td>3</td>\n",
       "      <td>3</td>\n",
       "      <td>7</td>\n",
       "      <td>0</td>\n",
       "      <td>1</td>\n",
       "      <td>0</td>\n",
       "      <td>0</td>\n",
       "      <td>8000</td>\n",
       "      <td>834</td>\n",
       "    </tr>\n",
       "    <tr>\n",
       "      <th>7</th>\n",
       "      <td>São Paulo</td>\n",
       "      <td>213</td>\n",
       "      <td>4</td>\n",
       "      <td>4</td>\n",
       "      <td>4</td>\n",
       "      <td>4</td>\n",
       "      <td>1</td>\n",
       "      <td>0</td>\n",
       "      <td>2254</td>\n",
       "      <td>3223</td>\n",
       "      <td>1735</td>\n",
       "    </tr>\n",
       "  </tbody>\n",
       "</table>\n",
       "</div>"
      ],
      "text/plain": [
       "        city  area  rooms  bathroom  parking spaces  floor  animal  furniture  \\\n",
       "0  São Paulo    70      2         1               1      7       1          1   \n",
       "1  São Paulo   320      4         4               0     20       1          0   \n",
       "4  São Paulo    25      1         1               0      1       0          0   \n",
       "5  São Paulo   376      3         3               7      0       1          0   \n",
       "7  São Paulo   213      4         4               4      4       1          0   \n",
       "\n",
       "   hoa (R$)  rent amount (R$)  property tax (R$)  \n",
       "0      2065              3300                211  \n",
       "1      1200              4960               1750  \n",
       "4         0               800                 25  \n",
       "5         0              8000                834  \n",
       "7      2254              3223               1735  "
      ]
     },
     "execution_count": 47,
     "metadata": {},
     "output_type": "execute_result"
    }
   ],
   "source": [
    "# Filtrar a cidade de SP\n",
    "filtro_sp = base_dados.loc[base_dados['city'] == 'São Paulo']\n",
    "\n",
    "# Verificar \n",
    "filtro_sp.head()"
   ]
  },
  {
   "cell_type": "code",
   "execution_count": 48,
   "metadata": {},
   "outputs": [
    {
     "data": {
      "text/html": [
       "<div>\n",
       "<style scoped>\n",
       "    .dataframe tbody tr th:only-of-type {\n",
       "        vertical-align: middle;\n",
       "    }\n",
       "\n",
       "    .dataframe tbody tr th {\n",
       "        vertical-align: top;\n",
       "    }\n",
       "\n",
       "    .dataframe thead th {\n",
       "        text-align: right;\n",
       "    }\n",
       "</style>\n",
       "<table border=\"1\" class=\"dataframe\">\n",
       "  <thead>\n",
       "    <tr style=\"text-align: right;\">\n",
       "      <th></th>\n",
       "      <th>city</th>\n",
       "      <th>area</th>\n",
       "      <th>rooms</th>\n",
       "      <th>bathroom</th>\n",
       "      <th>parking spaces</th>\n",
       "      <th>floor</th>\n",
       "      <th>animal</th>\n",
       "      <th>furniture</th>\n",
       "      <th>hoa (R$)</th>\n",
       "      <th>rent amount (R$)</th>\n",
       "      <th>property tax (R$)</th>\n",
       "    </tr>\n",
       "  </thead>\n",
       "  <tbody>\n",
       "    <tr>\n",
       "      <th>count</th>\n",
       "      <td>5887</td>\n",
       "      <td>5887.000000</td>\n",
       "      <td>5887.000000</td>\n",
       "      <td>5887.000000</td>\n",
       "      <td>5887.000000</td>\n",
       "      <td>5887.000000</td>\n",
       "      <td>5887.000000</td>\n",
       "      <td>5887.000000</td>\n",
       "      <td>5887.000000</td>\n",
       "      <td>5887.000000</td>\n",
       "      <td>5887.000000</td>\n",
       "    </tr>\n",
       "    <tr>\n",
       "      <th>unique</th>\n",
       "      <td>1</td>\n",
       "      <td>NaN</td>\n",
       "      <td>NaN</td>\n",
       "      <td>NaN</td>\n",
       "      <td>NaN</td>\n",
       "      <td>NaN</td>\n",
       "      <td>NaN</td>\n",
       "      <td>NaN</td>\n",
       "      <td>NaN</td>\n",
       "      <td>NaN</td>\n",
       "      <td>NaN</td>\n",
       "    </tr>\n",
       "    <tr>\n",
       "      <th>top</th>\n",
       "      <td>São Paulo</td>\n",
       "      <td>NaN</td>\n",
       "      <td>NaN</td>\n",
       "      <td>NaN</td>\n",
       "      <td>NaN</td>\n",
       "      <td>NaN</td>\n",
       "      <td>NaN</td>\n",
       "      <td>NaN</td>\n",
       "      <td>NaN</td>\n",
       "      <td>NaN</td>\n",
       "      <td>NaN</td>\n",
       "    </tr>\n",
       "    <tr>\n",
       "      <th>freq</th>\n",
       "      <td>5887</td>\n",
       "      <td>NaN</td>\n",
       "      <td>NaN</td>\n",
       "      <td>NaN</td>\n",
       "      <td>NaN</td>\n",
       "      <td>NaN</td>\n",
       "      <td>NaN</td>\n",
       "      <td>NaN</td>\n",
       "      <td>NaN</td>\n",
       "      <td>NaN</td>\n",
       "      <td>NaN</td>\n",
       "    </tr>\n",
       "    <tr>\n",
       "      <th>mean</th>\n",
       "      <td>NaN</td>\n",
       "      <td>158.899439</td>\n",
       "      <td>2.558859</td>\n",
       "      <td>2.467641</td>\n",
       "      <td>1.877527</td>\n",
       "      <td>5.626465</td>\n",
       "      <td>0.761339</td>\n",
       "      <td>0.270596</td>\n",
       "      <td>1169.627994</td>\n",
       "      <td>4652.793783</td>\n",
       "      <td>495.701716</td>\n",
       "    </tr>\n",
       "    <tr>\n",
       "      <th>std</th>\n",
       "      <td>NaN</td>\n",
       "      <td>347.474169</td>\n",
       "      <td>1.166365</td>\n",
       "      <td>1.503060</td>\n",
       "      <td>1.687973</td>\n",
       "      <td>6.056361</td>\n",
       "      <td>0.426302</td>\n",
       "      <td>0.444306</td>\n",
       "      <td>4076.461180</td>\n",
       "      <td>3634.612007</td>\n",
       "      <td>4153.618928</td>\n",
       "    </tr>\n",
       "    <tr>\n",
       "      <th>min</th>\n",
       "      <td>NaN</td>\n",
       "      <td>11.000000</td>\n",
       "      <td>1.000000</td>\n",
       "      <td>1.000000</td>\n",
       "      <td>0.000000</td>\n",
       "      <td>0.000000</td>\n",
       "      <td>0.000000</td>\n",
       "      <td>0.000000</td>\n",
       "      <td>0.000000</td>\n",
       "      <td>500.000000</td>\n",
       "      <td>0.000000</td>\n",
       "    </tr>\n",
       "    <tr>\n",
       "      <th>25%</th>\n",
       "      <td>NaN</td>\n",
       "      <td>59.000000</td>\n",
       "      <td>2.000000</td>\n",
       "      <td>1.000000</td>\n",
       "      <td>1.000000</td>\n",
       "      <td>0.000000</td>\n",
       "      <td>1.000000</td>\n",
       "      <td>0.000000</td>\n",
       "      <td>0.000000</td>\n",
       "      <td>2000.000000</td>\n",
       "      <td>37.000000</td>\n",
       "    </tr>\n",
       "    <tr>\n",
       "      <th>50%</th>\n",
       "      <td>NaN</td>\n",
       "      <td>106.000000</td>\n",
       "      <td>3.000000</td>\n",
       "      <td>2.000000</td>\n",
       "      <td>1.000000</td>\n",
       "      <td>4.000000</td>\n",
       "      <td>1.000000</td>\n",
       "      <td>0.000000</td>\n",
       "      <td>665.000000</td>\n",
       "      <td>3400.000000</td>\n",
       "      <td>170.000000</td>\n",
       "    </tr>\n",
       "    <tr>\n",
       "      <th>75%</th>\n",
       "      <td>NaN</td>\n",
       "      <td>212.000000</td>\n",
       "      <td>3.000000</td>\n",
       "      <td>4.000000</td>\n",
       "      <td>3.000000</td>\n",
       "      <td>9.000000</td>\n",
       "      <td>1.000000</td>\n",
       "      <td>1.000000</td>\n",
       "      <td>1608.500000</td>\n",
       "      <td>6000.000000</td>\n",
       "      <td>550.000000</td>\n",
       "    </tr>\n",
       "    <tr>\n",
       "      <th>max</th>\n",
       "      <td>NaN</td>\n",
       "      <td>24606.000000</td>\n",
       "      <td>10.000000</td>\n",
       "      <td>10.000000</td>\n",
       "      <td>12.000000</td>\n",
       "      <td>46.000000</td>\n",
       "      <td>1.000000</td>\n",
       "      <td>1.000000</td>\n",
       "      <td>220000.000000</td>\n",
       "      <td>45000.000000</td>\n",
       "      <td>313700.000000</td>\n",
       "    </tr>\n",
       "  </tbody>\n",
       "</table>\n",
       "</div>"
      ],
      "text/plain": [
       "             city          area        rooms     bathroom  parking spaces  \\\n",
       "count        5887   5887.000000  5887.000000  5887.000000     5887.000000   \n",
       "unique          1           NaN          NaN          NaN             NaN   \n",
       "top     São Paulo           NaN          NaN          NaN             NaN   \n",
       "freq         5887           NaN          NaN          NaN             NaN   \n",
       "mean          NaN    158.899439     2.558859     2.467641        1.877527   \n",
       "std           NaN    347.474169     1.166365     1.503060        1.687973   \n",
       "min           NaN     11.000000     1.000000     1.000000        0.000000   \n",
       "25%           NaN     59.000000     2.000000     1.000000        1.000000   \n",
       "50%           NaN    106.000000     3.000000     2.000000        1.000000   \n",
       "75%           NaN    212.000000     3.000000     4.000000        3.000000   \n",
       "max           NaN  24606.000000    10.000000    10.000000       12.000000   \n",
       "\n",
       "              floor       animal    furniture       hoa (R$)  \\\n",
       "count   5887.000000  5887.000000  5887.000000    5887.000000   \n",
       "unique          NaN          NaN          NaN            NaN   \n",
       "top             NaN          NaN          NaN            NaN   \n",
       "freq            NaN          NaN          NaN            NaN   \n",
       "mean       5.626465     0.761339     0.270596    1169.627994   \n",
       "std        6.056361     0.426302     0.444306    4076.461180   \n",
       "min        0.000000     0.000000     0.000000       0.000000   \n",
       "25%        0.000000     1.000000     0.000000       0.000000   \n",
       "50%        4.000000     1.000000     0.000000     665.000000   \n",
       "75%        9.000000     1.000000     1.000000    1608.500000   \n",
       "max       46.000000     1.000000     1.000000  220000.000000   \n",
       "\n",
       "        rent amount (R$)  property tax (R$)  \n",
       "count        5887.000000        5887.000000  \n",
       "unique               NaN                NaN  \n",
       "top                  NaN                NaN  \n",
       "freq                 NaN                NaN  \n",
       "mean         4652.793783         495.701716  \n",
       "std          3634.612007        4153.618928  \n",
       "min           500.000000           0.000000  \n",
       "25%          2000.000000          37.000000  \n",
       "50%          3400.000000         170.000000  \n",
       "75%          6000.000000         550.000000  \n",
       "max         45000.000000      313700.000000  "
      ]
     },
     "execution_count": 48,
     "metadata": {},
     "output_type": "execute_result"
    }
   ],
   "source": [
    "filtro_sp.describe(include=\"all\")"
   ]
  },
  {
   "cell_type": "code",
   "execution_count": 49,
   "metadata": {},
   "outputs": [
    {
     "name": "stdout",
     "output_type": "stream",
     "text": [
      "Help on method drop in module pandas.core.frame:\n",
      "\n",
      "drop(labels=None, axis: 'Axis' = 0, index=None, columns=None, level: 'Level | None' = None, inplace: 'bool' = False, errors: 'str' = 'raise') method of pandas.core.frame.DataFrame instance\n",
      "    Drop specified labels from rows or columns.\n",
      "    \n",
      "    Remove rows or columns by specifying label names and corresponding\n",
      "    axis, or by specifying directly index or column names. When using a\n",
      "    multi-index, labels on different levels can be removed by specifying\n",
      "    the level. See the `user guide <advanced.shown_levels>`\n",
      "    for more information about the now unused levels.\n",
      "    \n",
      "    Parameters\n",
      "    ----------\n",
      "    labels : single label or list-like\n",
      "        Index or column labels to drop.\n",
      "    axis : {0 or 'index', 1 or 'columns'}, default 0\n",
      "        Whether to drop labels from the index (0 or 'index') or\n",
      "        columns (1 or 'columns').\n",
      "    index : single label or list-like\n",
      "        Alternative to specifying axis (``labels, axis=0``\n",
      "        is equivalent to ``index=labels``).\n",
      "    columns : single label or list-like\n",
      "        Alternative to specifying axis (``labels, axis=1``\n",
      "        is equivalent to ``columns=labels``).\n",
      "    level : int or level name, optional\n",
      "        For MultiIndex, level from which the labels will be removed.\n",
      "    inplace : bool, default False\n",
      "        If False, return a copy. Otherwise, do operation\n",
      "        inplace and return None.\n",
      "    errors : {'ignore', 'raise'}, default 'raise'\n",
      "        If 'ignore', suppress error and only existing labels are\n",
      "        dropped.\n",
      "    \n",
      "    Returns\n",
      "    -------\n",
      "    DataFrame or None\n",
      "        DataFrame without the removed index or column labels or\n",
      "        None if ``inplace=True``.\n",
      "    \n",
      "    Raises\n",
      "    ------\n",
      "    KeyError\n",
      "        If any of the labels is not found in the selected axis.\n",
      "    \n",
      "    See Also\n",
      "    --------\n",
      "    DataFrame.loc : Label-location based indexer for selection by label.\n",
      "    DataFrame.dropna : Return DataFrame with labels on given axis omitted\n",
      "        where (all or any) data are missing.\n",
      "    DataFrame.drop_duplicates : Return DataFrame with duplicate rows\n",
      "        removed, optionally only considering certain columns.\n",
      "    Series.drop : Return Series with specified index labels removed.\n",
      "    \n",
      "    Examples\n",
      "    --------\n",
      "    >>> df = pd.DataFrame(np.arange(12).reshape(3, 4),\n",
      "    ...                   columns=['A', 'B', 'C', 'D'])\n",
      "    >>> df\n",
      "       A  B   C   D\n",
      "    0  0  1   2   3\n",
      "    1  4  5   6   7\n",
      "    2  8  9  10  11\n",
      "    \n",
      "    Drop columns\n",
      "    \n",
      "    >>> df.drop(['B', 'C'], axis=1)\n",
      "       A   D\n",
      "    0  0   3\n",
      "    1  4   7\n",
      "    2  8  11\n",
      "    \n",
      "    >>> df.drop(columns=['B', 'C'])\n",
      "       A   D\n",
      "    0  0   3\n",
      "    1  4   7\n",
      "    2  8  11\n",
      "    \n",
      "    Drop a row by index\n",
      "    \n",
      "    >>> df.drop([0, 1])\n",
      "       A  B   C   D\n",
      "    2  8  9  10  11\n",
      "    \n",
      "    Drop columns and/or rows of MultiIndex DataFrame\n",
      "    \n",
      "    >>> midx = pd.MultiIndex(levels=[['lama', 'cow', 'falcon'],\n",
      "    ...                              ['speed', 'weight', 'length']],\n",
      "    ...                      codes=[[0, 0, 0, 1, 1, 1, 2, 2, 2],\n",
      "    ...                             [0, 1, 2, 0, 1, 2, 0, 1, 2]])\n",
      "    >>> df = pd.DataFrame(index=midx, columns=['big', 'small'],\n",
      "    ...                   data=[[45, 30], [200, 100], [1.5, 1], [30, 20],\n",
      "    ...                         [250, 150], [1.5, 0.8], [320, 250],\n",
      "    ...                         [1, 0.8], [0.3, 0.2]])\n",
      "    >>> df\n",
      "                    big     small\n",
      "    lama    speed   45.0    30.0\n",
      "            weight  200.0   100.0\n",
      "            length  1.5     1.0\n",
      "    cow     speed   30.0    20.0\n",
      "            weight  250.0   150.0\n",
      "            length  1.5     0.8\n",
      "    falcon  speed   320.0   250.0\n",
      "            weight  1.0     0.8\n",
      "            length  0.3     0.2\n",
      "    \n",
      "    >>> df.drop(index='cow', columns='small')\n",
      "                    big\n",
      "    lama    speed   45.0\n",
      "            weight  200.0\n",
      "            length  1.5\n",
      "    falcon  speed   320.0\n",
      "            weight  1.0\n",
      "            length  0.3\n",
      "    \n",
      "    >>> df.drop(index='length', level=1)\n",
      "                    big     small\n",
      "    lama    speed   45.0    30.0\n",
      "            weight  200.0   100.0\n",
      "    cow     speed   30.0    20.0\n",
      "            weight  250.0   150.0\n",
      "    falcon  speed   320.0   250.0\n",
      "            weight  1.0     0.8\n",
      "\n"
     ]
    }
   ],
   "source": [
    "# Drop coluna city\n",
    "help(base_dados.drop)\n",
    "filtro_sp.drop(['city'], axis=1, inplace=True)\n",
    "# base_dados.drop( columns=['city'], inplace=True )"
   ]
  },
  {
   "cell_type": "code",
   "execution_count": 50,
   "metadata": {},
   "outputs": [
    {
     "data": {
      "text/plain": [
       "Index(['area', 'rooms', 'bathroom', 'parking spaces', 'floor', 'animal',\n",
       "       'furniture', 'hoa (R$)', 'rent amount (R$)', 'property tax (R$)'],\n",
       "      dtype='object')"
      ]
     },
     "execution_count": 50,
     "metadata": {},
     "output_type": "execute_result"
    }
   ],
   "source": [
    "filtro_sp.columns"
   ]
  },
  {
   "cell_type": "markdown",
   "metadata": {},
   "source": [
    "#### Separar os dados"
   ]
  },
  {
   "cell_type": "code",
   "execution_count": 51,
   "metadata": {},
   "outputs": [],
   "source": [
    "caracteristicas = filtro_sp.drop('rent amount (R$)', axis=1)\n",
    "previsor = filtro_sp['rent amount (R$)']"
   ]
  },
  {
   "cell_type": "code",
   "execution_count": 52,
   "metadata": {},
   "outputs": [
    {
     "data": {
      "text/plain": [
       "Index(['area', 'rooms', 'bathroom', 'parking spaces', 'floor', 'animal',\n",
       "       'furniture', 'hoa (R$)', 'property tax (R$)'],\n",
       "      dtype='object')"
      ]
     },
     "execution_count": 52,
     "metadata": {},
     "output_type": "execute_result"
    }
   ],
   "source": [
    "caracteristicas.columns"
   ]
  },
  {
   "cell_type": "code",
   "execution_count": 53,
   "metadata": {},
   "outputs": [
    {
     "data": {
      "text/plain": [
       "pandas.core.frame.DataFrame"
      ]
     },
     "execution_count": 53,
     "metadata": {},
     "output_type": "execute_result"
    }
   ],
   "source": [
    "type(caracteristicas)"
   ]
  },
  {
   "cell_type": "code",
   "execution_count": 54,
   "metadata": {},
   "outputs": [
    {
     "data": {
      "text/plain": [
       "((5887, 9), (5887,))"
      ]
     },
     "execution_count": 54,
     "metadata": {},
     "output_type": "execute_result"
    }
   ],
   "source": [
    "caracteristicas.shape, previsor.shape"
   ]
  },
  {
   "cell_type": "markdown",
   "metadata": {},
   "source": [
    "#### Correlação dos dados\n",
    "<ul>\n",
    "<li>Correlação <b>positiva</b>: Um sobe o outro tbm sobe. Ex: Idade e salário.</li>\n",
    "<li>Correlação <b>negativa</b>: Um sobe e o outro desce. Ex: Dólar e real.</li>\n",
    "</ul>\n"
   ]
  },
  {
   "cell_type": "code",
   "execution_count": 56,
   "metadata": {},
   "outputs": [
    {
     "data": {
      "text/html": [
       "<div>\n",
       "<style scoped>\n",
       "    .dataframe tbody tr th:only-of-type {\n",
       "        vertical-align: middle;\n",
       "    }\n",
       "\n",
       "    .dataframe tbody tr th {\n",
       "        vertical-align: top;\n",
       "    }\n",
       "\n",
       "    .dataframe thead th {\n",
       "        text-align: right;\n",
       "    }\n",
       "</style>\n",
       "<table border=\"1\" class=\"dataframe\">\n",
       "  <thead>\n",
       "    <tr style=\"text-align: right;\">\n",
       "      <th></th>\n",
       "      <th>area</th>\n",
       "      <th>rooms</th>\n",
       "      <th>bathroom</th>\n",
       "      <th>parking spaces</th>\n",
       "      <th>floor</th>\n",
       "      <th>animal</th>\n",
       "      <th>furniture</th>\n",
       "      <th>hoa (R$)</th>\n",
       "      <th>rent amount (R$)</th>\n",
       "      <th>property tax (R$)</th>\n",
       "    </tr>\n",
       "  </thead>\n",
       "  <tbody>\n",
       "    <tr>\n",
       "      <th>area</th>\n",
       "      <td>1.000000</td>\n",
       "      <td>0.306863</td>\n",
       "      <td>0.316543</td>\n",
       "      <td>0.300795</td>\n",
       "      <td>-0.038790</td>\n",
       "      <td>0.073565</td>\n",
       "      <td>-0.018145</td>\n",
       "      <td>0.056091</td>\n",
       "      <td>0.274749</td>\n",
       "      <td>0.065289</td>\n",
       "    </tr>\n",
       "    <tr>\n",
       "      <th>rooms</th>\n",
       "      <td>0.306863</td>\n",
       "      <td>1.000000</td>\n",
       "      <td>0.759432</td>\n",
       "      <td>0.645041</td>\n",
       "      <td>-0.092117</td>\n",
       "      <td>0.213963</td>\n",
       "      <td>-0.088931</td>\n",
       "      <td>0.136343</td>\n",
       "      <td>0.537622</td>\n",
       "      <td>0.071702</td>\n",
       "    </tr>\n",
       "    <tr>\n",
       "      <th>bathroom</th>\n",
       "      <td>0.316543</td>\n",
       "      <td>0.759432</td>\n",
       "      <td>1.000000</td>\n",
       "      <td>0.703530</td>\n",
       "      <td>-0.015503</td>\n",
       "      <td>0.159097</td>\n",
       "      <td>0.005864</td>\n",
       "      <td>0.163205</td>\n",
       "      <td>0.638924</td>\n",
       "      <td>0.101616</td>\n",
       "    </tr>\n",
       "    <tr>\n",
       "      <th>parking spaces</th>\n",
       "      <td>0.300795</td>\n",
       "      <td>0.645041</td>\n",
       "      <td>0.703530</td>\n",
       "      <td>1.000000</td>\n",
       "      <td>-0.038378</td>\n",
       "      <td>0.165253</td>\n",
       "      <td>-0.015155</td>\n",
       "      <td>0.115951</td>\n",
       "      <td>0.573373</td>\n",
       "      <td>0.092362</td>\n",
       "    </tr>\n",
       "    <tr>\n",
       "      <th>floor</th>\n",
       "      <td>-0.038790</td>\n",
       "      <td>-0.092117</td>\n",
       "      <td>-0.015503</td>\n",
       "      <td>-0.038378</td>\n",
       "      <td>1.000000</td>\n",
       "      <td>-0.014202</td>\n",
       "      <td>0.135180</td>\n",
       "      <td>0.107211</td>\n",
       "      <td>0.065294</td>\n",
       "      <td>0.005672</td>\n",
       "    </tr>\n",
       "    <tr>\n",
       "      <th>animal</th>\n",
       "      <td>0.073565</td>\n",
       "      <td>0.213963</td>\n",
       "      <td>0.159097</td>\n",
       "      <td>0.165253</td>\n",
       "      <td>-0.014202</td>\n",
       "      <td>1.000000</td>\n",
       "      <td>-0.066208</td>\n",
       "      <td>0.020575</td>\n",
       "      <td>0.107147</td>\n",
       "      <td>-0.005308</td>\n",
       "    </tr>\n",
       "    <tr>\n",
       "      <th>furniture</th>\n",
       "      <td>-0.018145</td>\n",
       "      <td>-0.088931</td>\n",
       "      <td>0.005864</td>\n",
       "      <td>-0.015155</td>\n",
       "      <td>0.135180</td>\n",
       "      <td>-0.066208</td>\n",
       "      <td>1.000000</td>\n",
       "      <td>0.042860</td>\n",
       "      <td>0.154316</td>\n",
       "      <td>-0.007852</td>\n",
       "    </tr>\n",
       "    <tr>\n",
       "      <th>hoa (R$)</th>\n",
       "      <td>0.056091</td>\n",
       "      <td>0.136343</td>\n",
       "      <td>0.163205</td>\n",
       "      <td>0.115951</td>\n",
       "      <td>0.107211</td>\n",
       "      <td>0.020575</td>\n",
       "      <td>0.042860</td>\n",
       "      <td>1.000000</td>\n",
       "      <td>0.188147</td>\n",
       "      <td>0.028872</td>\n",
       "    </tr>\n",
       "    <tr>\n",
       "      <th>rent amount (R$)</th>\n",
       "      <td>0.274749</td>\n",
       "      <td>0.537622</td>\n",
       "      <td>0.638924</td>\n",
       "      <td>0.573373</td>\n",
       "      <td>0.065294</td>\n",
       "      <td>0.107147</td>\n",
       "      <td>0.154316</td>\n",
       "      <td>0.188147</td>\n",
       "      <td>1.000000</td>\n",
       "      <td>0.091749</td>\n",
       "    </tr>\n",
       "    <tr>\n",
       "      <th>property tax (R$)</th>\n",
       "      <td>0.065289</td>\n",
       "      <td>0.071702</td>\n",
       "      <td>0.101616</td>\n",
       "      <td>0.092362</td>\n",
       "      <td>0.005672</td>\n",
       "      <td>-0.005308</td>\n",
       "      <td>-0.007852</td>\n",
       "      <td>0.028872</td>\n",
       "      <td>0.091749</td>\n",
       "      <td>1.000000</td>\n",
       "    </tr>\n",
       "  </tbody>\n",
       "</table>\n",
       "</div>"
      ],
      "text/plain": [
       "                       area     rooms  bathroom  parking spaces     floor  \\\n",
       "area               1.000000  0.306863  0.316543        0.300795 -0.038790   \n",
       "rooms              0.306863  1.000000  0.759432        0.645041 -0.092117   \n",
       "bathroom           0.316543  0.759432  1.000000        0.703530 -0.015503   \n",
       "parking spaces     0.300795  0.645041  0.703530        1.000000 -0.038378   \n",
       "floor             -0.038790 -0.092117 -0.015503       -0.038378  1.000000   \n",
       "animal             0.073565  0.213963  0.159097        0.165253 -0.014202   \n",
       "furniture         -0.018145 -0.088931  0.005864       -0.015155  0.135180   \n",
       "hoa (R$)           0.056091  0.136343  0.163205        0.115951  0.107211   \n",
       "rent amount (R$)   0.274749  0.537622  0.638924        0.573373  0.065294   \n",
       "property tax (R$)  0.065289  0.071702  0.101616        0.092362  0.005672   \n",
       "\n",
       "                     animal  furniture  hoa (R$)  rent amount (R$)  \\\n",
       "area               0.073565  -0.018145  0.056091          0.274749   \n",
       "rooms              0.213963  -0.088931  0.136343          0.537622   \n",
       "bathroom           0.159097   0.005864  0.163205          0.638924   \n",
       "parking spaces     0.165253  -0.015155  0.115951          0.573373   \n",
       "floor             -0.014202   0.135180  0.107211          0.065294   \n",
       "animal             1.000000  -0.066208  0.020575          0.107147   \n",
       "furniture         -0.066208   1.000000  0.042860          0.154316   \n",
       "hoa (R$)           0.020575   0.042860  1.000000          0.188147   \n",
       "rent amount (R$)   0.107147   0.154316  0.188147          1.000000   \n",
       "property tax (R$) -0.005308  -0.007852  0.028872          0.091749   \n",
       "\n",
       "                   property tax (R$)  \n",
       "area                        0.065289  \n",
       "rooms                       0.071702  \n",
       "bathroom                    0.101616  \n",
       "parking spaces              0.092362  \n",
       "floor                       0.005672  \n",
       "animal                     -0.005308  \n",
       "furniture                  -0.007852  \n",
       "hoa (R$)                    0.028872  \n",
       "rent amount (R$)            0.091749  \n",
       "property tax (R$)           1.000000  "
      ]
     },
     "execution_count": 56,
     "metadata": {},
     "output_type": "execute_result"
    }
   ],
   "source": [
    "filtro_sp.corr()"
   ]
  },
  {
   "cell_type": "markdown",
   "metadata": {},
   "source": [
    "### Correlação em modo gráfico com yellowbrick"
   ]
  },
  {
   "cell_type": "code",
   "execution_count": 58,
   "metadata": {},
   "outputs": [
    {
     "data": {
      "image/png": "[encoded data removed]",
      "text/plain": [
       "<Figure size 576x396 with 2 Axes>"
      ]
     },
     "metadata": {},
     "output_type": "display_data"
    }
   ],
   "source": [
    "# Yellowbrick\n",
    "from yellowbrick.features import Rank2D\n",
    "\n",
    "# Definir o modelo\n",
    "correlacao = Rank2D( algoritmo='pearson' )\n",
    "\n",
    "# Filtrar função\n",
    "correlacao.fit( caracteristicas, previsor )\n",
    "correlacao.transform( caracteristicas )\n",
    "correlacao.show();\n"
   ]
  },
  {
   "cell_type": "markdown",
   "metadata": {},
   "source": [
    "### Separar dados em Teste e Treino"
   ]
  },
  {
   "cell_type": "code",
   "execution_count": 59,
   "metadata": {},
   "outputs": [],
   "source": [
    "from sklearn.model_selection import train_test_split"
   ]
  },
  {
   "cell_type": "code",
   "execution_count": 60,
   "metadata": {},
   "outputs": [],
   "source": [
    "x_treino, x_test, Y_treino, y_test = train_test_split(\n",
    "    caracteristicas, previsor, test_size=0.2, random_state=10\n",
    ")"
   ]
  },
  {
   "cell_type": "code",
   "execution_count": 61,
   "metadata": {},
   "outputs": [
    {
     "name": "stdout",
     "output_type": "stream",
     "text": [
      "Dados de treino: 4709\n",
      "Dados de treino: 1178\n"
     ]
    }
   ],
   "source": [
    "print(f'Dados de treino: {x_treino.shape[0]}')\n",
    "print(f'Dados de treino: {x_test.shape[0]}')"
   ]
  },
  {
   "cell_type": "code",
   "execution_count": null,
   "metadata": {},
   "outputs": [],
   "source": []
  }
 ],
 "metadata": {
  "kernelspec": {
   "display_name": "Python 3 (ipykernel)",
   "language": "python",
   "name": "python3"
  },
  "language_info": {
   "codemirror_mode": {
    "name": "ipython",
    "version": 3
   },
   "file_extension": ".py",
   "mimetype": "text/x-python",
   "name": "python",
   "nbconvert_exporter": "python",
   "pygments_lexer": "ipython3",
   "version": "3.9.7"
  }
 },
 "nbformat": 4,
 "nbformat_minor": 2
}
